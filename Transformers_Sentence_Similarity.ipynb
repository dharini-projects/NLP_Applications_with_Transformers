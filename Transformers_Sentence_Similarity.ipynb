{
  "nbformat": 4,
  "nbformat_minor": 0,
  "metadata": {
    "colab": {
      "provenance": [],
      "authorship_tag": "ABX9TyP+7Nu4COWi0SCtHYa6C2mJ",
      "include_colab_link": true
    },
    "kernelspec": {
      "name": "python3",
      "display_name": "Python 3"
    },
    "language_info": {
      "name": "python"
    }
  },
  "cells": [
    {
      "cell_type": "markdown",
      "metadata": {
        "id": "view-in-github",
        "colab_type": "text"
      },
      "source": [
        "<a href=\"https://colab.research.google.com/github/dharini-projects/NLP_Applications_with_Transformers/blob/main/Transformers_Sentence_Similarity.ipynb\" target=\"_parent\"><img src=\"https://colab.research.google.com/assets/colab-badge.svg\" alt=\"Open In Colab\"/></a>"
      ]
    },
    {
      "cell_type": "code",
      "execution_count": 3,
      "metadata": {
        "id": "rh02HIhfi_Sx",
        "colab": {
          "base_uri": "https://localhost:8080/"
        },
        "outputId": "503ab8af-6d18-445a-91d6-9b388da10d1e"
      },
      "outputs": [
        {
          "output_type": "stream",
          "name": "stdout",
          "text": [
            "Looking in indexes: https://pypi.org/simple, https://us-python.pkg.dev/colab-wheels/public/simple/\n",
            "Requirement already satisfied: transformers in /usr/local/lib/python3.8/dist-packages (4.25.1)\n",
            "Requirement already satisfied: tokenizers!=0.11.3,<0.14,>=0.11.1 in /usr/local/lib/python3.8/dist-packages (from transformers) (0.13.2)\n",
            "Requirement already satisfied: requests in /usr/local/lib/python3.8/dist-packages (from transformers) (2.23.0)\n",
            "Requirement already satisfied: pyyaml>=5.1 in /usr/local/lib/python3.8/dist-packages (from transformers) (6.0)\n",
            "Requirement already satisfied: regex!=2019.12.17 in /usr/local/lib/python3.8/dist-packages (from transformers) (2022.6.2)\n",
            "Requirement already satisfied: numpy>=1.17 in /usr/local/lib/python3.8/dist-packages (from transformers) (1.21.6)\n",
            "Requirement already satisfied: filelock in /usr/local/lib/python3.8/dist-packages (from transformers) (3.8.0)\n",
            "Requirement already satisfied: huggingface-hub<1.0,>=0.10.0 in /usr/local/lib/python3.8/dist-packages (from transformers) (0.11.1)\n",
            "Requirement already satisfied: tqdm>=4.27 in /usr/local/lib/python3.8/dist-packages (from transformers) (4.64.1)\n",
            "Requirement already satisfied: packaging>=20.0 in /usr/local/lib/python3.8/dist-packages (from transformers) (21.3)\n",
            "Requirement already satisfied: typing-extensions>=3.7.4.3 in /usr/local/lib/python3.8/dist-packages (from huggingface-hub<1.0,>=0.10.0->transformers) (4.4.0)\n",
            "Requirement already satisfied: pyparsing!=3.0.5,>=2.0.2 in /usr/local/lib/python3.8/dist-packages (from packaging>=20.0->transformers) (3.0.9)\n",
            "Requirement already satisfied: chardet<4,>=3.0.2 in /usr/local/lib/python3.8/dist-packages (from requests->transformers) (3.0.4)\n",
            "Requirement already satisfied: urllib3!=1.25.0,!=1.25.1,<1.26,>=1.21.1 in /usr/local/lib/python3.8/dist-packages (from requests->transformers) (1.24.3)\n",
            "Requirement already satisfied: certifi>=2017.4.17 in /usr/local/lib/python3.8/dist-packages (from requests->transformers) (2022.9.24)\n",
            "Requirement already satisfied: idna<3,>=2.5 in /usr/local/lib/python3.8/dist-packages (from requests->transformers) (2.10)\n",
            "Looking in indexes: https://pypi.org/simple, https://us-python.pkg.dev/colab-wheels/public/simple/\n",
            "Collecting sentence_transformers\n",
            "  Downloading sentence-transformers-2.2.2.tar.gz (85 kB)\n",
            "\u001b[K     |████████████████████████████████| 85 kB 2.9 MB/s \n",
            "\u001b[?25hRequirement already satisfied: transformers<5.0.0,>=4.6.0 in /usr/local/lib/python3.8/dist-packages (from sentence_transformers) (4.25.1)\n",
            "Requirement already satisfied: tqdm in /usr/local/lib/python3.8/dist-packages (from sentence_transformers) (4.64.1)\n",
            "Requirement already satisfied: torch>=1.6.0 in /usr/local/lib/python3.8/dist-packages (from sentence_transformers) (1.13.0+cu116)\n",
            "Requirement already satisfied: torchvision in /usr/local/lib/python3.8/dist-packages (from sentence_transformers) (0.14.0+cu116)\n",
            "Requirement already satisfied: numpy in /usr/local/lib/python3.8/dist-packages (from sentence_transformers) (1.21.6)\n",
            "Requirement already satisfied: scikit-learn in /usr/local/lib/python3.8/dist-packages (from sentence_transformers) (1.0.2)\n",
            "Requirement already satisfied: scipy in /usr/local/lib/python3.8/dist-packages (from sentence_transformers) (1.7.3)\n",
            "Requirement already satisfied: nltk in /usr/local/lib/python3.8/dist-packages (from sentence_transformers) (3.7)\n",
            "Collecting sentencepiece\n",
            "  Downloading sentencepiece-0.1.97-cp38-cp38-manylinux_2_17_x86_64.manylinux2014_x86_64.whl (1.3 MB)\n",
            "\u001b[K     |████████████████████████████████| 1.3 MB 27.4 MB/s \n",
            "\u001b[?25hRequirement already satisfied: huggingface-hub>=0.4.0 in /usr/local/lib/python3.8/dist-packages (from sentence_transformers) (0.11.1)\n",
            "Requirement already satisfied: pyyaml>=5.1 in /usr/local/lib/python3.8/dist-packages (from huggingface-hub>=0.4.0->sentence_transformers) (6.0)\n",
            "Requirement already satisfied: typing-extensions>=3.7.4.3 in /usr/local/lib/python3.8/dist-packages (from huggingface-hub>=0.4.0->sentence_transformers) (4.4.0)\n",
            "Requirement already satisfied: packaging>=20.9 in /usr/local/lib/python3.8/dist-packages (from huggingface-hub>=0.4.0->sentence_transformers) (21.3)\n",
            "Requirement already satisfied: requests in /usr/local/lib/python3.8/dist-packages (from huggingface-hub>=0.4.0->sentence_transformers) (2.23.0)\n",
            "Requirement already satisfied: filelock in /usr/local/lib/python3.8/dist-packages (from huggingface-hub>=0.4.0->sentence_transformers) (3.8.0)\n",
            "Requirement already satisfied: pyparsing!=3.0.5,>=2.0.2 in /usr/local/lib/python3.8/dist-packages (from packaging>=20.9->huggingface-hub>=0.4.0->sentence_transformers) (3.0.9)\n",
            "Requirement already satisfied: regex!=2019.12.17 in /usr/local/lib/python3.8/dist-packages (from transformers<5.0.0,>=4.6.0->sentence_transformers) (2022.6.2)\n",
            "Requirement already satisfied: tokenizers!=0.11.3,<0.14,>=0.11.1 in /usr/local/lib/python3.8/dist-packages (from transformers<5.0.0,>=4.6.0->sentence_transformers) (0.13.2)\n",
            "Requirement already satisfied: joblib in /usr/local/lib/python3.8/dist-packages (from nltk->sentence_transformers) (1.2.0)\n",
            "Requirement already satisfied: click in /usr/local/lib/python3.8/dist-packages (from nltk->sentence_transformers) (7.1.2)\n",
            "Requirement already satisfied: urllib3!=1.25.0,!=1.25.1,<1.26,>=1.21.1 in /usr/local/lib/python3.8/dist-packages (from requests->huggingface-hub>=0.4.0->sentence_transformers) (1.24.3)\n",
            "Requirement already satisfied: certifi>=2017.4.17 in /usr/local/lib/python3.8/dist-packages (from requests->huggingface-hub>=0.4.0->sentence_transformers) (2022.9.24)\n",
            "Requirement already satisfied: idna<3,>=2.5 in /usr/local/lib/python3.8/dist-packages (from requests->huggingface-hub>=0.4.0->sentence_transformers) (2.10)\n",
            "Requirement already satisfied: chardet<4,>=3.0.2 in /usr/local/lib/python3.8/dist-packages (from requests->huggingface-hub>=0.4.0->sentence_transformers) (3.0.4)\n",
            "Requirement already satisfied: threadpoolctl>=2.0.0 in /usr/local/lib/python3.8/dist-packages (from scikit-learn->sentence_transformers) (3.1.0)\n",
            "Requirement already satisfied: pillow!=8.3.*,>=5.3.0 in /usr/local/lib/python3.8/dist-packages (from torchvision->sentence_transformers) (7.1.2)\n",
            "Building wheels for collected packages: sentence-transformers\n",
            "  Building wheel for sentence-transformers (setup.py) ... \u001b[?25l\u001b[?25hdone\n",
            "  Created wheel for sentence-transformers: filename=sentence_transformers-2.2.2-py3-none-any.whl size=125938 sha256=86b5fd1ef3043bd1a01cee766a85666ad4b8b4cf100b13b53a85b9da817e5c3b\n",
            "  Stored in directory: /root/.cache/pip/wheels/5e/6f/8c/d88aec621f3f542d26fac0342bef5e693335d125f4e54aeffe\n",
            "Successfully built sentence-transformers\n",
            "Installing collected packages: sentencepiece, sentence-transformers\n",
            "Successfully installed sentence-transformers-2.2.2 sentencepiece-0.1.97\n"
          ]
        }
      ],
      "source": [
        "!pip install transformers\n",
        "!pip install sentence_transformers"
      ]
    },
    {
      "cell_type": "code",
      "source": [
        "from sentence_transformers import SentenceTransformer\n",
        "sentences = [\"This is an example sentence\", \"Each sentence is converted\"]\n",
        "\n",
        "model = SentenceTransformer('sentence-transformers/paraphrase-multilingual-MiniLM-L12-v2')\n",
        "embeddings = model.encode(sentences)\n",
        "print(embeddings)"
      ],
      "metadata": {
        "colab": {
          "base_uri": "https://localhost:8080/"
        },
        "id": "FVzPrkwhoHmi",
        "outputId": "c3f02536-b2c8-4535-ddcc-a9826c15b22f"
      },
      "execution_count": 5,
      "outputs": [
        {
          "output_type": "stream",
          "name": "stdout",
          "text": [
            "[ 0.18845691  0.1742563   0.05447772  0.29051754  0.16766408 -0.04720694\n",
            "  0.6455802   0.15980887  0.22689256 -0.03089058  0.2558835  -0.05258774\n",
            " -0.22610132 -0.05710645  0.13042624  0.12495341  0.3174961   0.19444403\n",
            " -0.5863257  -0.01258594  0.60990924  0.16432738  0.03331125 -0.27383074\n",
            " -0.28975755 -0.21119703 -0.02261392 -0.17035928  0.16159002  0.06082734\n",
            " -0.2416241   0.18579195  0.42740965  0.19295175 -0.07234468  0.16611099\n",
            "  0.1044281   0.20477232  0.21116726  0.19974008 -0.09408256 -0.17383672\n",
            "  0.06427343  0.28025484 -0.2953058   0.06209531  0.10427685 -0.02364406\n",
            "  0.12913162 -0.12617469 -0.17899004  0.03700574 -0.6125062   0.05029817\n",
            "  0.17730352  0.2249413   0.17386074 -0.03840286 -0.21286829  0.2584925\n",
            " -0.12101638  0.3097151  -0.41966382  0.00907672  0.14188926 -0.3055695\n",
            "  0.17621128 -0.07087351 -0.62033117  0.67708343  0.01723742  0.18405111\n",
            " -0.16785763  0.20452656 -0.1477027  -0.06175349  0.6301742   0.11120192\n",
            "  0.0515307   0.15927407 -0.05370896  0.05350957  0.14135517  0.11239237\n",
            " -0.48411798 -0.1699363  -0.053218    0.27650324  0.11777698 -0.34912533\n",
            " -0.51375544 -0.3284406   0.54240453 -0.05326686  0.22918311 -0.01275997\n",
            "  0.10331812 -0.33627796  0.24764998  0.8155244  -0.0893091   0.24757908\n",
            " -0.12043513  0.01898998  0.32457083 -0.26162407 -0.19714789  0.01440942\n",
            " -0.03558924 -0.32742977 -0.04829865  0.18030544  0.0231214  -0.14245255\n",
            " -0.19523919 -0.5549118   0.04145998 -0.08038609 -0.1290991   0.34541178\n",
            "  0.0417979  -0.17788376  0.34458548  0.10763661  0.00641321 -0.8081875\n",
            "  0.18311797 -0.06116318  0.10278971 -0.35960695 -0.12100698 -0.31905466\n",
            "  0.1443449   0.19774683 -0.04758296 -0.13626695  0.2791587   0.10766137\n",
            " -0.03404953  0.06557204  0.03390295  0.4742832   0.03201615  0.43823132\n",
            " -0.18881224  0.39110157 -0.2936495  -0.09019417 -0.08186897  0.15285054\n",
            "  0.11806718 -0.297869    0.18289222 -0.23518284 -0.04338431 -0.08308797\n",
            " -0.01447871  0.08936626  0.11753727 -0.06312171 -0.13069405  0.16051383\n",
            " -0.07993043  0.04523452 -0.11637417 -0.19606264  0.03943989 -0.34911746\n",
            " -0.01147577  0.26085466  0.31661993 -0.0806361  -0.18066727  0.02020074\n",
            " -0.08835131 -0.01678037 -0.38134593  0.15447448 -0.0322849   0.01385781\n",
            "  0.31472588 -0.2918775  -0.11789732 -0.02333073 -0.22907744  0.24850793\n",
            " -0.08262324  0.17519855  0.07053168  0.17890444 -0.19748053  0.11594938\n",
            "  0.22957744  0.08844827 -0.34138528 -0.0030538   0.4403538   0.20765062\n",
            " -0.23839916  0.14549924 -0.3251113  -0.04974949  0.08412296 -0.26103264\n",
            "  0.42206785 -0.27341732  0.22958674 -0.18960805 -0.17343752 -0.04636091\n",
            "  0.12553105  0.4785326  -0.5529561   0.21560618  0.06972317  0.0727867\n",
            " -0.23890151  0.19889076 -0.42354277 -0.16452731 -0.2275816  -0.04920295\n",
            "  0.23738705 -0.4553153  -0.06247041  0.58110225 -0.08885664 -0.05396941\n",
            "  0.28655332 -0.4812406  -0.06124131 -0.28116295  0.3689792  -0.2953122\n",
            " -0.7186569  -0.38774464 -0.16324672  0.13904089 -0.02087955 -0.05228808\n",
            " -0.10613591 -0.05529137 -0.06380246  0.02985419  0.0134196   0.01263418\n",
            "  0.11067458 -0.07000606 -0.01710511  0.10809217 -0.11134932 -0.4287483\n",
            " -0.33341148  0.14569548 -0.24261568  0.15181312 -0.08179667  0.24336226\n",
            " -0.37745455  0.0814956   0.09220832 -0.2765347   0.04063628  0.20002265\n",
            " -0.04784415 -0.4051086   0.18088545  0.08081245  0.02778464  0.14977632\n",
            " -0.45252842 -0.06112524  0.22713491 -0.13096143 -0.2984912  -0.15302703\n",
            " -0.2612384  -0.22188596  0.04267634 -0.20062754 -0.02200282 -0.494369\n",
            "  0.53533375 -0.02982693 -0.01962635  0.05706299  0.17869142  0.3115847\n",
            "  0.36374238  0.21134551 -0.39374965  0.17488778  0.01140839 -0.10499537\n",
            " -0.14383794 -0.10661022 -0.43856117  0.0465332  -0.26895502 -0.03211486\n",
            "  0.3126729  -0.28747177 -0.30524972 -0.02647251  0.25250235 -0.18864205\n",
            "  0.21024205  0.07654767 -0.3165552   0.13155593 -0.02851373  0.2662212\n",
            " -0.43981525  0.3357479  -0.02058742 -0.22813618 -0.18404225  0.15129343\n",
            " -0.20930658 -0.45565376  0.09736742 -0.1739391  -0.1294007  -0.11562878\n",
            "  0.27910307 -0.15251733  0.16353616 -0.18450572 -0.00569272 -0.3015108\n",
            " -0.1003425   0.33604616 -0.01101641  0.01471764 -0.07628005  0.7871475\n",
            " -0.2812058  -0.23819901  0.10064662  0.59900755  0.5006779   0.15818898\n",
            " -0.2903748   0.06542079 -0.14885983  0.06843908 -0.03958029  0.14649329\n",
            " -0.14633437  0.17913024  0.28052396  0.36252996 -0.3133769  -0.04091802\n",
            " -0.07653176  0.15323558  0.19257903 -0.3736527   0.09541666 -0.2839846\n",
            " -0.00148433 -0.04926264  0.44722313  0.657747    0.16523829  0.05867773\n",
            " -0.40437832 -0.07801338 -0.2553783  -0.36102337 -0.0967814  -0.1420583\n",
            "  0.1474618   0.09517752  0.05682952 -0.17478298  0.26147896  0.14114739\n",
            "  0.12460989  0.08857524  0.1845387   0.27090248  0.34769484  0.0872965 ]\n"
          ]
        }
      ]
    },
    {
      "cell_type": "code",
      "source": [
        "\n",
        "from sentence_transformers import util\n",
        "\n",
        "similarity_model = SentenceTransformer('sentence-transformers/all-MiniLM-L6-v2')\n",
        "\n",
        "input_sentences = [\"I'm happy\", \"I'm not sad\"]\n",
        "\n",
        "#Compute embedding for both lists\n",
        "embedding_1= similarity_model.encode(input_sentences[0], convert_to_tensor=True)\n",
        "embedding_2 = similarity_model.encode(input_sentences[1], convert_to_tensor=True)\n",
        "\n",
        "util.pytorch_cos_sim(embedding_1, embedding_2)\n"
      ],
      "metadata": {
        "colab": {
          "base_uri": "https://localhost:8080/"
        },
        "id": "b9YRoTVz6hju",
        "outputId": "a9442522-b68d-43b7-a212-6c8eb7b34ea1"
      },
      "execution_count": 12,
      "outputs": [
        {
          "output_type": "execute_result",
          "data": {
            "text/plain": [
              "tensor([[0.4624]])"
            ]
          },
          "metadata": {},
          "execution_count": 12
        }
      ]
    }
  ]
}